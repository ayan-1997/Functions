{
  "nbformat": 4,
  "nbformat_minor": 0,
  "metadata": {
    "colab": {
      "provenance": []
    },
    "kernelspec": {
      "name": "python3",
      "display_name": "Python 3"
    },
    "language_info": {
      "name": "python"
    }
  },
  "cells": [
    {
      "cell_type": "code",
      "source": [
        "\n",
        "# What is the difference between a function and a method in Python?\n",
        "\"\"\"\n",
        "function is a block of reusable code defined as 'def','lmbda','map','reduce'. It can be called directly by name. It does not depend upon any object or class.\n",
        "method is a function inside a class. It can be called by object of the class.\n",
        "example=\n",
        "def add(a,b):\n",
        "  return a+b\n",
        "print(add(2,3))\n",
        "\n",
        "def add(self,a,b):\n",
        "  return a+b\n",
        "print(add(2,3))\n",
        "\"\"\"\n",
        "\n",
        "# Explain the concept of function arguments and parameters in Python.\n",
        "\"\"\"\n",
        "Arguments are the actual values of the function when calling it. They fill the parameters. Arguments are various types= positional argument, keyword argument, default argument, variable argument\n",
        "example= def greet(\"ayan\") here \"ayan\" is an argument.\n",
        "Parameters are the variable listed in the function definition. They act like input names for the function.\n",
        "example= def greet(name): here \"name\" is a parameter.\n",
        "\"\"\"\n",
        "\n",
        "# What are the different ways to define and call a function in Python?\n",
        "\"\"\"\n",
        "Different ways to define a function\n",
        "1. def greet(name):\n",
        "      return f\"hello, {name}\"\n",
        "2.\n",
        "\"\"\"\n",
        "\n",
        "# What is the purpose of the `return` statement in a Python function?\n",
        "\"\"\"\n",
        "'return' statement sends back data from the function and exits the function. also ends the function execution immediately. Without return statement function output is none.\n",
        "\"\"\"\n",
        "\n",
        "# What are iterators in Python and how do they differ from iterables?\n",
        "\"\"\"\n",
        "Iterators are an object representing a stream of data, return the data one by one. iterator object is initialized using the `iter()` method. It uses the `next()` method for iteration.\n",
        "Iterable is any python object or sequential structure that is capable of returning its members one at a time. ex- list, tuple,set, str all are iterable object\n",
        "l = [1, 2, 3, 4, 5]\n",
        "iter(l)\n",
        "print(next(l)) # o/p is 1\n",
        "print(next(l)) # o/p is 2\n",
        "print(next(l)) # o/p is 3\n",
        "print(next(l)) # o/p is 4\n",
        "print(next(l)) # o/p is 5\n",
        "\"\"\"\n",
        "\n",
        "# Explain the concept of generators in Python and how they are defined.\n",
        "\"\"\"\n",
        "Generator functions in Python are a way to create iterators in a more concise and memory-efficient manner. These functions allow you to iterate over a potentially large sequence of data without loading the entire\n",
        "sequence into memory. The main difference between a regular function and a generator function is that regular function use \" return\" function where as generator function use \"yield\" function.\n",
        " The uses of \"yield\" function is that it returns the value specified in the yield and pauses its execution state. The next time the generator is called, it resumes from where it left off.\n",
        " ex-\n",
        " def pw_skills_generator():\n",
        " yield \"Python\"\n",
        " yield \"Web Development\"\n",
        " yield \"Problem Solving\"\n",
        " yield \"Debugging\"\n",
        " # Usage\n",
        " for skill in pw_skills_generator():\n",
        " print(f\"Learn: {skill}\")\n",
        "\"\"\"\n",
        "\n",
        "# What are the advantages of using generators over regular functions?\n",
        "\"\"\"\n",
        "The advantages are=\n",
        "1. Memory efficiency\n",
        "2. Lazy evaluation\n",
        "3. Code readability\n",
        "4. Infinite sequence\n",
        "5. Cleaner code with yield\n",
        "\"\"\"\n",
        "\n",
        "# What is a lambda function in Python and when is it typically used?\n",
        "\"\"\"\n",
        "A lambda function in Python is a concise way to create anonymous functions. Unlike regular functions defined using the def keyword, lambda functions are often used for short-term operations and are defined in a single line.\n",
        "It is used for small one off fuunctions, with map(), filter(), reduce(), when passing a function as an argument.\n",
        "syntax = lambda arguments: expression\n",
        "\"\"\"\n",
        "\n",
        "#  Explain the purpose and usage of the `map()` function in Python.\n",
        "\"\"\"\n",
        "Purpose of map() in Python:\n",
        "The map() function is used to apply a specific function to each item in an iterable (like a list, tuple, etc.) and returns a new iterable with the results. It’s part of Python’s functional programming tools and helps to avoid writing explicit loops\n",
        "\"\"\"\n",
        "\n",
        "#  What is the difference between `map()`, `reduce()`, and `filter()` functions in Python?\n",
        "\"\"\"\n",
        " map() = Applies a function to each item in an iterable and returns a new iterable (a map object, which can be converted to a list, tuple, etc.). syntax = map(function,iterable).\n",
        " reduce()= Applies a function cumulatively to the items of the iterable, reducing the iterable to a single value it must be import from the functools module. syntax reduce(function, iterable)\n",
        " filter()= Filters the items in an iterable by applying a function that returns True or False. Only items where the function returns True are included. syntax= filter(function,iterable)\n",
        " \"\"\"\n",
        "\n",
        " #  Using pen & Paper write the internal mechanism for sum operation using  reduce function on this given\n",
        "\"\"\"\n",
        "from functools import reduce\n",
        "l = [47,11,42,13]\n",
        "sum = reduce(lambda x,y: x+y, l)\n",
        "print(sum)\n",
        "I cannot insert the image here.\n",
        "\"\"\""
      ],
      "metadata": {
        "id": "QMC3IDb1BAaW"
      },
      "execution_count": null,
      "outputs": []
    },
    {
      "cell_type": "code",
      "source": [
        "from functools import reduce\n",
        "l = [47,11,42,13]\n",
        "sum = reduce(lambda x,y: x+y, l)\n",
        "print(sum)"
      ],
      "metadata": {
        "colab": {
          "base_uri": "https://localhost:8080/"
        },
        "id": "sJJf9M40ad4H",
        "outputId": "3f13453c-2ffe-4fe0-c480-ee91e63ffaef"
      },
      "execution_count": 15,
      "outputs": [
        {
          "output_type": "stream",
          "name": "stdout",
          "text": [
            "113\n"
          ]
        }
      ]
    },
    {
      "cell_type": "code",
      "execution_count": null,
      "metadata": {
        "colab": {
          "base_uri": "https://localhost:8080/"
        },
        "id": "B1RA3skcjy2P",
        "outputId": "c8667e96-19a6-48b7-a0ba-32c304a2bd2d"
      },
      "outputs": [
        {
          "output_type": "stream",
          "name": "stdout",
          "text": [
            "[48]\n"
          ]
        }
      ],
      "source": [
        "# Write a Python function that takes a list of numbers as input and returns the sum of all even numbers in the list.\n",
        "from functools import reduce\n",
        "l = [2, 3, 5, 8, 10, 12, 16]\n",
        "even_num = [reduce(lambda x, y: x+y, list(filter(lambda x: x%2==0, l)))]\n",
        "print(even_num)"
      ]
    },
    {
      "cell_type": "code",
      "source": [
        "# Create a Python function that accepts a string and returns the reverse of that string.\n",
        "m = \"PWSKILLS\"\n",
        "def reverse_string(m):\n",
        "  return m[::-1]\n",
        "print(reverse_string(m))"
      ],
      "metadata": {
        "colab": {
          "base_uri": "https://localhost:8080/"
        },
        "id": "Ilt-cSdfp94s",
        "outputId": "fb9fbb24-7ba7-4bb8-bd8c-9db73c55df5a"
      },
      "execution_count": null,
      "outputs": [
        {
          "output_type": "stream",
          "name": "stdout",
          "text": [
            "SLLIKSWP\n"
          ]
        }
      ]
    },
    {
      "cell_type": "code",
      "source": [
        "# Implement a Python function that takes a list of integers and returns a new list containing the squares of each number.\n",
        "l1 = [5, 7, 10, 8, 11]\n",
        "square_num = (list(map(lambda x: x**2, l1)))\n",
        "print(square_num)"
      ],
      "metadata": {
        "colab": {
          "base_uri": "https://localhost:8080/"
        },
        "id": "N4Hl_d54q5_1",
        "outputId": "71fbbd08-31ef-4548-fb92-acbd71cd9724"
      },
      "execution_count": null,
      "outputs": [
        {
          "output_type": "stream",
          "name": "stdout",
          "text": [
            "[25, 49, 100, 64, 121]\n"
          ]
        }
      ]
    },
    {
      "cell_type": "code",
      "source": [
        "# Write a Python function that checks if a given number is prime or not from 1 to 200.\n",
        "a = range(1, 201)\n",
        "prime_num =(list(filter(lambda x: all(x % y != 0 for y in range(2, x)), a)))\n",
        "print(prime_num)"
      ],
      "metadata": {
        "colab": {
          "base_uri": "https://localhost:8080/"
        },
        "id": "GLom2hGOsQl7",
        "outputId": "a4533743-f9c6-4a1c-8857-f4c0b39d3299"
      },
      "execution_count": null,
      "outputs": [
        {
          "output_type": "stream",
          "name": "stdout",
          "text": [
            "[1, 2, 3, 5, 7, 11, 13, 17, 19, 23, 29, 31, 37, 41, 43, 47, 53, 59, 61, 67, 71, 73, 79, 83, 89, 97, 101, 103, 107, 109, 113, 127, 131, 137, 139, 149, 151, 157, 163, 167, 173, 179, 181, 191, 193, 197, 199]\n"
          ]
        }
      ]
    },
    {
      "cell_type": "code",
      "source": [
        "#  Create an iterator class in Python that generates the Fibonacci sequence up to a specified number of terms.\n",
        "def fib(n):\n",
        "  a = 0\n",
        "  b = 1\n",
        "  for i in range(n):\n",
        "    yield a\n",
        "    a,b =b,a+b\n",
        "for i in fib(10):\n",
        "      print(i)"
      ],
      "metadata": {
        "colab": {
          "base_uri": "https://localhost:8080/"
        },
        "id": "nIm93_SjvEvv",
        "outputId": "c8281faa-8592-46ab-c696-3d3bf40a0bed"
      },
      "execution_count": null,
      "outputs": [
        {
          "output_type": "stream",
          "name": "stdout",
          "text": [
            "0\n",
            "1\n",
            "1\n",
            "2\n",
            "3\n",
            "5\n",
            "8\n",
            "13\n",
            "21\n",
            "34\n"
          ]
        }
      ]
    },
    {
      "cell_type": "code",
      "source": [
        "# Write a generator function in Python that yields the powers of 2 up to a given exponent.\n",
        "def power(n):\n",
        "  for i in range(n):\n",
        "    yield 2**i\n",
        "for i in power(10):\n",
        "  print(i)"
      ],
      "metadata": {
        "colab": {
          "base_uri": "https://localhost:8080/"
        },
        "id": "yzu_NZvx3fwm",
        "outputId": "9b9e1bfc-7e48-4338-fb41-5ba052ff75d4"
      },
      "execution_count": null,
      "outputs": [
        {
          "output_type": "stream",
          "name": "stdout",
          "text": [
            "1\n",
            "2\n",
            "4\n",
            "8\n",
            "16\n",
            "32\n",
            "64\n",
            "128\n",
            "256\n",
            "512\n"
          ]
        }
      ]
    },
    {
      "cell_type": "code",
      "source": [
        "# Implement a generator function that reads a file line by line and yields each line as a string.\n",
        "def read_file(filename):\n",
        "  with open(filename, 'r') as file:\n",
        "    for line in file:\n",
        "      yield line\n",
        "for line in read_file('file.txt'):\n",
        "  print(line)"
      ],
      "metadata": {
        "colab": {
          "base_uri": "https://localhost:8080/",
          "height": 315
        },
        "id": "ppaDQ3iS4U5-",
        "outputId": "4670ee27-bcbd-4d23-9a1b-48f91847bce7"
      },
      "execution_count": null,
      "outputs": [
        {
          "output_type": "error",
          "ename": "FileNotFoundError",
          "evalue": "[Errno 2] No such file or directory: 'file.txt'",
          "traceback": [
            "\u001b[0;31m---------------------------------------------------------------------------\u001b[0m",
            "\u001b[0;31mFileNotFoundError\u001b[0m                         Traceback (most recent call last)",
            "\u001b[0;32m/tmp/ipython-input-2459702216.py\u001b[0m in \u001b[0;36m<cell line: 0>\u001b[0;34m()\u001b[0m\n\u001b[1;32m      4\u001b[0m     \u001b[0;32mfor\u001b[0m \u001b[0mline\u001b[0m \u001b[0;32min\u001b[0m \u001b[0mfile\u001b[0m\u001b[0;34m:\u001b[0m\u001b[0;34m\u001b[0m\u001b[0;34m\u001b[0m\u001b[0m\n\u001b[1;32m      5\u001b[0m       \u001b[0;32myield\u001b[0m \u001b[0mline\u001b[0m\u001b[0;34m\u001b[0m\u001b[0;34m\u001b[0m\u001b[0m\n\u001b[0;32m----> 6\u001b[0;31m \u001b[0;32mfor\u001b[0m \u001b[0mline\u001b[0m \u001b[0;32min\u001b[0m \u001b[0mread_file\u001b[0m\u001b[0;34m(\u001b[0m\u001b[0;34m'file.txt'\u001b[0m\u001b[0;34m)\u001b[0m\u001b[0;34m:\u001b[0m\u001b[0;34m\u001b[0m\u001b[0;34m\u001b[0m\u001b[0m\n\u001b[0m\u001b[1;32m      7\u001b[0m   \u001b[0mprint\u001b[0m\u001b[0;34m(\u001b[0m\u001b[0mline\u001b[0m\u001b[0;34m)\u001b[0m\u001b[0;34m\u001b[0m\u001b[0;34m\u001b[0m\u001b[0m\n",
            "\u001b[0;32m/tmp/ipython-input-2459702216.py\u001b[0m in \u001b[0;36mread_file\u001b[0;34m(filename)\u001b[0m\n\u001b[1;32m      1\u001b[0m \u001b[0;31m# Implement a generator function that reads a file line by line and yields each line as a string.\u001b[0m\u001b[0;34m\u001b[0m\u001b[0;34m\u001b[0m\u001b[0m\n\u001b[1;32m      2\u001b[0m \u001b[0;32mdef\u001b[0m \u001b[0mread_file\u001b[0m\u001b[0;34m(\u001b[0m\u001b[0mfilename\u001b[0m\u001b[0;34m)\u001b[0m\u001b[0;34m:\u001b[0m\u001b[0;34m\u001b[0m\u001b[0;34m\u001b[0m\u001b[0m\n\u001b[0;32m----> 3\u001b[0;31m   \u001b[0;32mwith\u001b[0m \u001b[0mopen\u001b[0m\u001b[0;34m(\u001b[0m\u001b[0mfilename\u001b[0m\u001b[0;34m,\u001b[0m \u001b[0;34m'r'\u001b[0m\u001b[0;34m)\u001b[0m \u001b[0;32mas\u001b[0m \u001b[0mfile\u001b[0m\u001b[0;34m:\u001b[0m\u001b[0;34m\u001b[0m\u001b[0;34m\u001b[0m\u001b[0m\n\u001b[0m\u001b[1;32m      4\u001b[0m     \u001b[0;32mfor\u001b[0m \u001b[0mline\u001b[0m \u001b[0;32min\u001b[0m \u001b[0mfile\u001b[0m\u001b[0;34m:\u001b[0m\u001b[0;34m\u001b[0m\u001b[0;34m\u001b[0m\u001b[0m\n\u001b[1;32m      5\u001b[0m       \u001b[0;32myield\u001b[0m \u001b[0mline\u001b[0m\u001b[0;34m\u001b[0m\u001b[0;34m\u001b[0m\u001b[0m\n",
            "\u001b[0;31mFileNotFoundError\u001b[0m: [Errno 2] No such file or directory: 'file.txt'"
          ]
        }
      ]
    },
    {
      "cell_type": "code",
      "source": [
        "# Use a lambda function in Python to sort a list of tuples based on the second element of each tuple.\n",
        "l2 = [(34, 45, 76), (77,12,82,), (98,32,48), (72,62,43)]\n",
        "sort_list = (list(sorted(l2, key=lambda x: x[1])))\n",
        "print(sort_list)\n"
      ],
      "metadata": {
        "colab": {
          "base_uri": "https://localhost:8080/"
        },
        "id": "wHmkzXYv5jfZ",
        "outputId": "56dfaa26-ee80-49c9-cb82-819e1beef7b8"
      },
      "execution_count": null,
      "outputs": [
        {
          "output_type": "stream",
          "name": "stdout",
          "text": [
            "[(77, 12, 82), (98, 32, 48), (34, 45, 76), (72, 62, 43)]\n"
          ]
        }
      ]
    },
    {
      "cell_type": "code",
      "source": [
        "#  Write a Python program that uses `map()` to convert a list of temperatures from Celsius to Fahrenheit.\n",
        "temp = [45, 22, 98, 85, 104, 110]\n",
        "fahrenheit_temp = (list(map(lambda x: (x*9/5)+32, temp)))\n",
        "print(fahrenheit_temp)"
      ],
      "metadata": {
        "colab": {
          "base_uri": "https://localhost:8080/"
        },
        "id": "gMwdBtBS86FJ",
        "outputId": "40f6e306-8011-47b6-a335-47c03e205720"
      },
      "execution_count": null,
      "outputs": [
        {
          "output_type": "stream",
          "name": "stdout",
          "text": [
            "[113.0, 71.6, 208.4, 185.0, 219.2, 230.0]\n"
          ]
        }
      ]
    },
    {
      "cell_type": "code",
      "source": [
        "# Create a Python program that uses `filter()` to remove all the vowels from a given string.\n",
        "my_name = \"Ayan Mondal\"\n",
        "def remove_vowels(my_name):\n",
        "  vowels = ['a', 'e', 'i', 'o', 'u', 'A', 'E', 'I', 'O', 'U']\n",
        "  return \"\".join(filter(lambda x: x not in vowels, my_name))\n",
        "print(remove_vowels(my_name))"
      ],
      "metadata": {
        "colab": {
          "base_uri": "https://localhost:8080/"
        },
        "id": "st0UPcO2-dMw",
        "outputId": "3af94b13-835f-4956-b9a2-c4bc16281dd8"
      },
      "execution_count": null,
      "outputs": [
        {
          "output_type": "stream",
          "name": "stdout",
          "text": [
            "yn Mndl\n"
          ]
        }
      ]
    },
    {
      "cell_type": "code",
      "source": [
        "#  Imagine an accounting routine used in a book shop. It works on a list with sublists, which look like this:\n",
        " # Write a Python program, which returns a list with 2-tuples. Each tuple consists of the order number and the product of the price per item and the quantity. The product should be increased by 10,- € if the value of the order is smaller than 100,00 €.\n",
        " #Write a Python program using lambda and map.\n",
        "\n",
        "product = [(34587, 163.8), (98762, 284), (77226, 98.85), (88112,74.97)]\n",
        "new_product = list(map(lambda x: (x[0], x[1] + 10) if x[1] < 100 else (x[0], x[1]), product))\n",
        "print(new_product)\n"
      ],
      "metadata": {
        "colab": {
          "base_uri": "https://localhost:8080/"
        },
        "id": "1ugSgDG3bb7M",
        "outputId": "f0d9698b-c65d-49e9-d423-f47c85c07b66"
      },
      "execution_count": 16,
      "outputs": [
        {
          "output_type": "stream",
          "name": "stdout",
          "text": [
            "[(34587, 163.8), (98762, 284), (77226, 108.85), (88112, 84.97)]\n"
          ]
        }
      ]
    }
  ]
}